{
 "cells": [
  {
   "cell_type": "code",
   "execution_count": 9,
   "id": "ed553e33-64c1-4237-8b3f-efdcd40ff870",
   "metadata": {},
   "outputs": [
    {
     "name": "stdout",
     "output_type": "stream",
     "text": [
      "Requirement already satisfied: sklearn2pmml in c:\\users\\syna\\appdata\\local\\programs\\python\\python311\\lib\\site-packages (0.111.1)\n",
      "Requirement already satisfied: joblib in c:\\users\\syna\\appdata\\local\\programs\\python\\python311\\lib\\site-packages (1.4.2)\n",
      "Requirement already satisfied: dill>=0.3.4 in c:\\users\\syna\\appdata\\local\\programs\\python\\python311\\lib\\site-packages (from sklearn2pmml) (0.3.9)\n",
      "Requirement already satisfied: pandas>=1.5.0 in c:\\users\\syna\\appdata\\local\\programs\\python\\python311\\lib\\site-packages (from sklearn2pmml) (2.2.3)\n",
      "Requirement already satisfied: scikit-learn>=1.0 in c:\\users\\syna\\appdata\\local\\programs\\python\\python311\\lib\\site-packages (from sklearn2pmml) (1.5.2)\n",
      "Requirement already satisfied: numpy>=1.23.2 in c:\\users\\syna\\appdata\\local\\programs\\python\\python311\\lib\\site-packages (from pandas>=1.5.0->sklearn2pmml) (2.1.2)\n",
      "Requirement already satisfied: python-dateutil>=2.8.2 in c:\\users\\syna\\appdata\\local\\programs\\python\\python311\\lib\\site-packages (from pandas>=1.5.0->sklearn2pmml) (2.9.0.post0)\n",
      "Requirement already satisfied: pytz>=2020.1 in c:\\users\\syna\\appdata\\local\\programs\\python\\python311\\lib\\site-packages (from pandas>=1.5.0->sklearn2pmml) (2024.2)\n",
      "Requirement already satisfied: tzdata>=2022.7 in c:\\users\\syna\\appdata\\local\\programs\\python\\python311\\lib\\site-packages (from pandas>=1.5.0->sklearn2pmml) (2024.2)\n",
      "Requirement already satisfied: scipy>=1.6.0 in c:\\users\\syna\\appdata\\local\\programs\\python\\python311\\lib\\site-packages (from scikit-learn>=1.0->sklearn2pmml) (1.14.1)\n",
      "Requirement already satisfied: threadpoolctl>=3.1.0 in c:\\users\\syna\\appdata\\local\\programs\\python\\python311\\lib\\site-packages (from scikit-learn>=1.0->sklearn2pmml) (3.5.0)\n",
      "Requirement already satisfied: six>=1.5 in c:\\users\\syna\\appdata\\local\\programs\\python\\python311\\lib\\site-packages (from python-dateutil>=2.8.2->pandas>=1.5.0->sklearn2pmml) (1.16.0)\n",
      "Model successfully converted to PMML format and saved as 'diabetes_model.pmml'.\n"
     ]
    }
   ],
   "source": [
    "!pip install sklearn2pmml joblib\n",
    "\n",
    "# Import necessary libraries\n",
    "import joblib\n",
    "from sklearn2pmml import sklearn2pmml\n",
    "from sklearn2pmml import PMMLPipeline\n",
    "\n",
    "# Load the model from a .pkl file using joblib\n",
    "model = joblib.load('diabetes_model.pkl')\n",
    "\n",
    "# Wrap your model in a PMML pipeline\n",
    "pipeline = PMMLPipeline([\n",
    "    (\"classifier\", model)\n",
    "])\n",
    "\n",
    "# Export the model as PMML\n",
    "sklearn2pmml(pipeline, \"diabetes_model.pmml\", with_repr=True)\n",
    "\n",
    "print(\"Model successfully converted to PMML format and saved as 'diabetes_model.pmml'.\")\n",
    "\n",
    "\n"
   ]
  },
  {
   "cell_type": "code",
   "execution_count": null,
   "id": "7d8d620f-536d-4956-a493-2ad097da4726",
   "metadata": {},
   "outputs": [],
   "source": []
  }
 ],
 "metadata": {
  "kernelspec": {
   "display_name": "Python 3 (ipykernel)",
   "language": "python",
   "name": "python3"
  },
  "language_info": {
   "codemirror_mode": {
    "name": "ipython",
    "version": 3
   },
   "file_extension": ".py",
   "mimetype": "text/x-python",
   "name": "python",
   "nbconvert_exporter": "python",
   "pygments_lexer": "ipython3",
   "version": "3.11.9"
  }
 },
 "nbformat": 4,
 "nbformat_minor": 5
}
